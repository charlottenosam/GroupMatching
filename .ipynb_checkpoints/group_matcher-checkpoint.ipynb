{
 "cells": [
  {
   "cell_type": "code",
   "execution_count": 79,
   "metadata": {
    "ExecuteTime": {
     "end_time": "2020-05-16T17:00:02.086452Z",
     "start_time": "2020-05-16T16:59:52.995322Z"
    }
   },
   "outputs": [],
   "source": [
    "import pandas as pd\n",
    "import numpy as np\n",
    "import copy\n",
    "import matplotlib.pyplot as plt\n",
    "import string\n",
    "import random\n",
    "import seaborn as sns"
   ]
  },
  {
   "cell_type": "markdown",
   "metadata": {},
   "source": [
    "# Matching people to their preferred groups\n",
    "\n",
    "People are given the option to be in different groups which have a fixed size. They rank their preferred groups. \n",
    "\n",
    "This algorithm simply sorts them into groups by trying to assign based on the order of their preferences, and finally randomly assigns any leftover people to groups with space."
   ]
  },
  {
   "cell_type": "markdown",
   "metadata": {},
   "source": [
    "# Setup a mock dataset of preferences"
   ]
  },
  {
   "cell_type": "code",
   "execution_count": 208,
   "metadata": {
    "ExecuteTime": {
     "end_time": "2020-05-17T10:55:23.707801Z",
     "start_time": "2020-05-17T10:55:23.697405Z"
    }
   },
   "outputs": [],
   "source": [
    "# Possible groups\n",
    "group_names = ['Group_%s' % s for s in list(string.ascii_uppercase)] \n",
    "\n",
    "# Number of people\n",
    "N_people = 100\n",
    "\n",
    "# Number of groups they rank\n",
    "N_choices = 5\n",
    "\n",
    "# Assign random perferences to people\n",
    "people_prefs = {f'Person_{x}': list(np.random.choice(group_names, N_choices, replace=False)) for x in range(N_people)}\n",
    "# people_prefs = {f'Stud_{x}': list(np.random.choice(group_names, random.randint(0,N_choices), replace=False)) for x in range(N_students)}\n",
    "\n",
    "assert all(len(x)==N_choices for x in people_prefs.values()), 'not all the people are in people_prefs'"
   ]
  },
  {
   "cell_type": "code",
   "execution_count": 210,
   "metadata": {
    "ExecuteTime": {
     "end_time": "2020-05-17T10:58:48.941051Z",
     "start_time": "2020-05-17T10:58:48.905284Z"
    }
   },
   "outputs": [],
   "source": [
    "def match_people_to_groups(group_names, people, max_people_per_group=4):\n",
    "    \"\"\"\n",
    "    Sorting people into their preferred groups.\n",
    "    \n",
    "    People are given the option to be in different groups which have a fixed size. \n",
    "    They rank their preferred groups.\n",
    "\n",
    "    This algorithm simply sorts them into groups by trying to assign based on the \n",
    "    order of their preferences, and finally randomly assigns any leftover people \n",
    "    to groups with space.\n",
    "    \n",
    "    Args:\n",
    "        group_names (list): list of names of groups\n",
    "        people (dict): dict with keys of the names of people, \n",
    "                        values their ranked group preferences\n",
    "        max_people_per_group (int): maximise group size\n",
    "\n",
    "    Returns:\n",
    "        group_dict (dict): dict with keys of the group name \n",
    "                            and values the people in the group\n",
    "    \n",
    "    \"\"\"\n",
    "    \n",
    "    N_people = len(people)\n",
    "    # Must be enough groups for everyone\n",
    "    assert len(group_names)*max_people_per_group > N_people,'not enough groups for people'\n",
    "\n",
    "    group_dict = {group: [] for group in group_names}\n",
    "    \n",
    "    i = 0\n",
    "    while len(people) > 0:                \n",
    "        for group in group_dict.keys():\n",
    "            \n",
    "            # Randomly loop through people\n",
    "            for s in random.sample(people.keys(), len(people)):\n",
    "                \n",
    "                # If a person has no remaining prefences, and there is space in the group, add them\n",
    "                if len(people[s])==0 and len(group_dict[group]) < max_people_per_group:\n",
    "                    group_dict[group].append(s)\n",
    "                    people.pop(s)\n",
    "                \n",
    "                # If a person has no remaining prefences, and there is NO space in the group, continue\n",
    "                elif len(people[s])==0:\n",
    "                    continue\n",
    "                \n",
    "                # Add people to the group if it's their first preference\n",
    "                elif (people[s][0] == group) and len(group_dict[group]) < max_people_per_group:\n",
    "                    group_dict[group].append(s)\n",
    "                    people.pop(s)\n",
    "                \n",
    "                # If it's their first preference, but the group is full, remove it from their preferences\n",
    "                elif (people[s][0]==group):\n",
    "                    people[s].pop(0)\n",
    "        i+=1\n",
    "        print(f'Iteration {i}: {len(people)} people unmatched')\n",
    "\n",
    "    assert len(set(x for v in group_dict.values() for x in v)) == N_people,'something went wrong'\n",
    "    \n",
    "    return group_dict"
   ]
  },
  {
   "cell_type": "markdown",
   "metadata": {},
   "source": [
    "# Do matching"
   ]
  },
  {
   "cell_type": "code",
   "execution_count": 211,
   "metadata": {
    "ExecuteTime": {
     "end_time": "2020-05-17T10:58:51.078959Z",
     "start_time": "2020-05-17T10:58:51.052996Z"
    }
   },
   "outputs": [
    {
     "name": "stdout",
     "output_type": "stream",
     "text": [
      "Iteration 1: 11 people unmatched\n",
      "Iteration 2: 7 people unmatched\n",
      "Iteration 3: 2 people unmatched\n",
      "Iteration 4: 0 people unmatched\n"
     ]
    }
   ],
   "source": [
    "matched_groups = match_people_to_groups(group_names, copy.deepcopy(people_prefs), max_people_per_group=4)\n",
    "# matched_groups"
   ]
  },
  {
   "cell_type": "markdown",
   "metadata": {},
   "source": [
    "# Which group is everyone in?"
   ]
  },
  {
   "cell_type": "code",
   "execution_count": 216,
   "metadata": {
    "ExecuteTime": {
     "end_time": "2020-05-17T10:59:02.815224Z",
     "start_time": "2020-05-17T10:59:02.800396Z"
    }
   },
   "outputs": [],
   "source": [
    "person_group_lookup = {person:group_name for group_name,group in matched_groups.items() for person in group}\n",
    "# person_group_lookup"
   ]
  },
  {
   "cell_type": "markdown",
   "metadata": {},
   "source": [
    "# What was the original rank of the final assigned group?\n",
    "\n",
    "I.e. how many people got their first choice?"
   ]
  },
  {
   "cell_type": "code",
   "execution_count": 226,
   "metadata": {
    "ExecuteTime": {
     "end_time": "2020-05-17T11:01:54.355711Z",
     "start_time": "2020-05-17T11:01:54.348721Z"
    }
   },
   "outputs": [],
   "source": [
    "final_ranks = {p: people_prefs[p].index(person_group_lookup[p]) if person_group_lookup[p] in people_prefs[p] else N_choices+1 for p in people_prefs}\n",
    "# final_ranks"
   ]
  },
  {
   "cell_type": "code",
   "execution_count": 228,
   "metadata": {
    "ExecuteTime": {
     "end_time": "2020-05-17T11:02:01.721316Z",
     "start_time": "2020-05-17T11:02:01.522642Z"
    }
   },
   "outputs": [
    {
     "data": {
      "text/plain": [
       "Text(0, 0.5, 'Number of people')"
      ]
     },
     "execution_count": 228,
     "metadata": {},
     "output_type": "execute_result"
    },
    {
     "data": {
      "image/png": "[encoded data removed]",
      "text/plain": [
       "<Figure size 432x288 with 1 Axes>"
      ]
     },
     "metadata": {
      "needs_background": "light"
     },
     "output_type": "display_data"
    }
   ],
   "source": [
    "sns.distplot(np.array(list(final_ranks.values()))-0.5, bins=N_choices+1, kde=False)\n",
    "\n",
    "xticks = list(range(N_choices)) + ['unranked']\n",
    "plt.xticks(ticks=range(N_choices+1), labels=xticks)\n",
    "plt.xlabel('Orginial ranking of final assigned group')\n",
    "plt.ylabel('Number of people')"
   ]
  },
  {
   "cell_type": "code",
   "execution_count": null,
   "metadata": {},
   "outputs": [],
   "source": []
  }
 ],
 "metadata": {
  "kernelspec": {
   "display_name": "Python 3",
   "language": "python",
   "name": "python3"
  },
  "language_info": {
   "codemirror_mode": {
    "name": "ipython",
    "version": 3
   },
   "file_extension": ".py",
   "mimetype": "text/x-python",
   "name": "python",
   "nbconvert_exporter": "python",
   "pygments_lexer": "ipython3",
   "version": "3.7.6"
  },
  "toc": {
   "base_numbering": 1,
   "nav_menu": {},
   "number_sections": true,
   "sideBar": true,
   "skip_h1_title": false,
   "title_cell": "Table of Contents",
   "title_sidebar": "Contents",
   "toc_cell": false,
   "toc_position": {},
   "toc_section_display": true,
   "toc_window_display": true
  }
 },
 "nbformat": 4,
 "nbformat_minor": 4
}
